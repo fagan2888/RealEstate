{
 "cells": [
  {
   "cell_type": "code",
   "execution_count": 4,
   "metadata": {},
   "outputs": [],
   "source": [
    "import pandas as pd\n",
    "import matplotlib.pyplot as plt\n",
    "import seaborn as sns\n",
    "import numpy as np\n",
    "from scipy.stats import norm\n",
    "from sklearn import preprocessing\n",
    "from scipy import stats\n",
    "import warnings\n",
    "warnings.filterwarnings('ignore')\n",
    "%matplotlib inline"
   ]
  },
  {
   "cell_type": "code",
   "execution_count": 5,
   "metadata": {},
   "outputs": [],
   "source": [
    "# /home/kazim/Desktop/projects/IE490\n",
    "fileName = '/home/kazim/Desktop/projects/IE490/input/tubitak_data2_processesed.csv'\n",
    "df = pd.read_csv(fileName,  sep = ',')"
   ]
  },
  {
   "cell_type": "code",
   "execution_count": 6,
   "metadata": {},
   "outputs": [
    {
     "data": {
      "text/html": [
       "<div>\n",
       "<style scoped>\n",
       "    .dataframe tbody tr th:only-of-type {\n",
       "        vertical-align: middle;\n",
       "    }\n",
       "\n",
       "    .dataframe tbody tr th {\n",
       "        vertical-align: top;\n",
       "    }\n",
       "\n",
       "    .dataframe thead th {\n",
       "        text-align: right;\n",
       "    }\n",
       "</style>\n",
       "<table border=\"1\" class=\"dataframe\">\n",
       "  <thead>\n",
       "    <tr style=\"text-align: right;\">\n",
       "      <th></th>\n",
       "      <th>ilce_kod</th>\n",
       "      <th>mahalle_kod</th>\n",
       "      <th>bagimsiz_bolum_kat</th>\n",
       "      <th>yuzolcumu</th>\n",
       "      <th>yasal_burut_alani</th>\n",
       "      <th>mevcut_alani</th>\n",
       "      <th>adil_piyasa_degeri_yasal_durum</th>\n",
       "      <th>area</th>\n",
       "      <th>duration</th>\n",
       "    </tr>\n",
       "  </thead>\n",
       "  <tbody>\n",
       "    <tr>\n",
       "      <th>0</th>\n",
       "      <td>85</td>\n",
       "      <td>55035</td>\n",
       "      <td>0.0</td>\n",
       "      <td>478.33</td>\n",
       "      <td>85.0</td>\n",
       "      <td>85.0</td>\n",
       "      <td>62000.0</td>\n",
       "      <td>19.765702</td>\n",
       "      <td>0</td>\n",
       "    </tr>\n",
       "    <tr>\n",
       "      <th>1</th>\n",
       "      <td>86</td>\n",
       "      <td>57190</td>\n",
       "      <td>1.0</td>\n",
       "      <td>7961.00</td>\n",
       "      <td>97.0</td>\n",
       "      <td>97.0</td>\n",
       "      <td>100000.0</td>\n",
       "      <td>70.000000</td>\n",
       "      <td>0</td>\n",
       "    </tr>\n",
       "    <tr>\n",
       "      <th>2</th>\n",
       "      <td>80</td>\n",
       "      <td>3835</td>\n",
       "      <td>-1.0</td>\n",
       "      <td>722.00</td>\n",
       "      <td>100.0</td>\n",
       "      <td>100.0</td>\n",
       "      <td>85000.0</td>\n",
       "      <td>36.000000</td>\n",
       "      <td>0</td>\n",
       "    </tr>\n",
       "    <tr>\n",
       "      <th>3</th>\n",
       "      <td>80</td>\n",
       "      <td>3837</td>\n",
       "      <td>-2.0</td>\n",
       "      <td>353.00</td>\n",
       "      <td>51.0</td>\n",
       "      <td>51.0</td>\n",
       "      <td>45000.0</td>\n",
       "      <td>32.000000</td>\n",
       "      <td>0</td>\n",
       "    </tr>\n",
       "    <tr>\n",
       "      <th>4</th>\n",
       "      <td>86</td>\n",
       "      <td>57190</td>\n",
       "      <td>1.0</td>\n",
       "      <td>667.00</td>\n",
       "      <td>97.0</td>\n",
       "      <td>97.0</td>\n",
       "      <td>110000.0</td>\n",
       "      <td>56.000000</td>\n",
       "      <td>0</td>\n",
       "    </tr>\n",
       "  </tbody>\n",
       "</table>\n",
       "</div>"
      ],
      "text/plain": [
       "   ilce_kod  mahalle_kod  bagimsiz_bolum_kat  yuzolcumu  yasal_burut_alani  \\\n",
       "0        85        55035                 0.0     478.33               85.0   \n",
       "1        86        57190                 1.0    7961.00               97.0   \n",
       "2        80         3835                -1.0     722.00              100.0   \n",
       "3        80         3837                -2.0     353.00               51.0   \n",
       "4        86        57190                 1.0     667.00               97.0   \n",
       "\n",
       "   mevcut_alani  adil_piyasa_degeri_yasal_durum       area  duration  \n",
       "0          85.0                         62000.0  19.765702         0  \n",
       "1          97.0                        100000.0  70.000000         0  \n",
       "2         100.0                         85000.0  36.000000         0  \n",
       "3          51.0                         45000.0  32.000000         0  \n",
       "4          97.0                        110000.0  56.000000         0  "
      ]
     },
     "execution_count": 6,
     "metadata": {},
     "output_type": "execute_result"
    }
   ],
   "source": [
    "#preview data\n",
    "df.head()"
   ]
  },
  {
   "cell_type": "code",
   "execution_count": 7,
   "metadata": {},
   "outputs": [],
   "source": [
    "# df.drop(df.index[df.ilce_kod!=79],inplace=True)\n",
    "# df\n",
    "# df.drop('ilce_kod',axis=1,inplace=True)"
   ]
  },
  {
   "cell_type": "code",
   "execution_count": 8,
   "metadata": {},
   "outputs": [
    {
     "name": "stdout",
     "output_type": "stream",
     "text": [
      "<class 'pandas.core.frame.DataFrame'>\n",
      "RangeIndex: 102191 entries, 0 to 102190\n",
      "Data columns (total 9 columns):\n",
      "ilce_kod                          102191 non-null int64\n",
      "mahalle_kod                       102191 non-null int64\n",
      "bagimsiz_bolum_kat                102191 non-null float64\n",
      "yuzolcumu                         102191 non-null float64\n",
      "yasal_burut_alani                 102191 non-null float64\n",
      "mevcut_alani                      102191 non-null float64\n",
      "adil_piyasa_degeri_yasal_durum    102191 non-null float64\n",
      "area                              102191 non-null float64\n",
      "duration                          102191 non-null int64\n",
      "dtypes: float64(6), int64(3)\n",
      "memory usage: 7.0 MB\n"
     ]
    }
   ],
   "source": [
    "df.info()"
   ]
  },
  {
   "cell_type": "code",
   "execution_count": 10,
   "metadata": {},
   "outputs": [],
   "source": [
    "mahalle = df[\"mahalle_kod\"]\n",
    "ilce = df[\"ilce_kod\"]"
   ]
  },
  {
   "cell_type": "code",
   "execution_count": 19,
   "metadata": {},
   "outputs": [
    {
     "name": "stdout",
     "output_type": "stream",
     "text": [
      "(302,)\n",
      "(18,)\n"
     ]
    }
   ],
   "source": [
    "print(df['mahalle_kod'].unique().shape)\n",
    "print(df['ilce_kod'].unique().shape)"
   ]
  },
  {
   "cell_type": "code",
   "execution_count": 20,
   "metadata": {},
   "outputs": [],
   "source": [
    "#we can drop yasal burut alani as it has almost 1 correlation with mevcut alan\n",
    "df = df.drop('yasal_burut_alani',axis=1)"
   ]
  },
  {
   "cell_type": "markdown",
   "metadata": {},
   "source": [
    "### One Hot Encoding for Categorical Variables"
   ]
  },
  {
   "cell_type": "code",
   "execution_count": 21,
   "metadata": {
    "scrolled": true
   },
   "outputs": [],
   "source": [
    "df = pd.get_dummies(df, columns=[\"ilce_kod\"])\n",
    "df = pd.get_dummies(df, columns=[\"mahalle_kod\"])"
   ]
  },
  {
   "cell_type": "code",
   "execution_count": 22,
   "metadata": {},
   "outputs": [
    {
     "data": {
      "text/html": [
       "<div>\n",
       "<style scoped>\n",
       "    .dataframe tbody tr th:only-of-type {\n",
       "        vertical-align: middle;\n",
       "    }\n",
       "\n",
       "    .dataframe tbody tr th {\n",
       "        vertical-align: top;\n",
       "    }\n",
       "\n",
       "    .dataframe thead th {\n",
       "        text-align: right;\n",
       "    }\n",
       "</style>\n",
       "<table border=\"1\" class=\"dataframe\">\n",
       "  <thead>\n",
       "    <tr style=\"text-align: right;\">\n",
       "      <th></th>\n",
       "      <th>bagimsiz_bolum_kat</th>\n",
       "      <th>yuzolcumu</th>\n",
       "      <th>mevcut_alani</th>\n",
       "      <th>adil_piyasa_degeri_yasal_durum</th>\n",
       "      <th>area</th>\n",
       "      <th>duration</th>\n",
       "      <th>ilce_kod_64</th>\n",
       "      <th>ilce_kod_65</th>\n",
       "      <th>ilce_kod_68</th>\n",
       "      <th>ilce_kod_70</th>\n",
       "      <th>...</th>\n",
       "      <th>mahalle_kod_74562</th>\n",
       "      <th>mahalle_kod_74631</th>\n",
       "      <th>mahalle_kod_74677</th>\n",
       "      <th>mahalle_kod_74678</th>\n",
       "      <th>mahalle_kod_74704</th>\n",
       "      <th>mahalle_kod_74751</th>\n",
       "      <th>mahalle_kod_74798</th>\n",
       "      <th>mahalle_kod_74883</th>\n",
       "      <th>mahalle_kod_74885</th>\n",
       "      <th>mahalle_kod_74930</th>\n",
       "    </tr>\n",
       "  </thead>\n",
       "  <tbody>\n",
       "    <tr>\n",
       "      <th>0</th>\n",
       "      <td>0.0</td>\n",
       "      <td>478.33</td>\n",
       "      <td>85.0</td>\n",
       "      <td>62000.0</td>\n",
       "      <td>19.765702</td>\n",
       "      <td>0</td>\n",
       "      <td>0</td>\n",
       "      <td>0</td>\n",
       "      <td>0</td>\n",
       "      <td>0</td>\n",
       "      <td>...</td>\n",
       "      <td>0</td>\n",
       "      <td>0</td>\n",
       "      <td>0</td>\n",
       "      <td>0</td>\n",
       "      <td>0</td>\n",
       "      <td>0</td>\n",
       "      <td>0</td>\n",
       "      <td>0</td>\n",
       "      <td>0</td>\n",
       "      <td>0</td>\n",
       "    </tr>\n",
       "    <tr>\n",
       "      <th>1</th>\n",
       "      <td>1.0</td>\n",
       "      <td>7961.00</td>\n",
       "      <td>97.0</td>\n",
       "      <td>100000.0</td>\n",
       "      <td>70.000000</td>\n",
       "      <td>0</td>\n",
       "      <td>0</td>\n",
       "      <td>0</td>\n",
       "      <td>0</td>\n",
       "      <td>0</td>\n",
       "      <td>...</td>\n",
       "      <td>0</td>\n",
       "      <td>0</td>\n",
       "      <td>0</td>\n",
       "      <td>0</td>\n",
       "      <td>0</td>\n",
       "      <td>0</td>\n",
       "      <td>0</td>\n",
       "      <td>0</td>\n",
       "      <td>0</td>\n",
       "      <td>0</td>\n",
       "    </tr>\n",
       "    <tr>\n",
       "      <th>2</th>\n",
       "      <td>-1.0</td>\n",
       "      <td>722.00</td>\n",
       "      <td>100.0</td>\n",
       "      <td>85000.0</td>\n",
       "      <td>36.000000</td>\n",
       "      <td>0</td>\n",
       "      <td>0</td>\n",
       "      <td>0</td>\n",
       "      <td>0</td>\n",
       "      <td>0</td>\n",
       "      <td>...</td>\n",
       "      <td>0</td>\n",
       "      <td>0</td>\n",
       "      <td>0</td>\n",
       "      <td>0</td>\n",
       "      <td>0</td>\n",
       "      <td>0</td>\n",
       "      <td>0</td>\n",
       "      <td>0</td>\n",
       "      <td>0</td>\n",
       "      <td>0</td>\n",
       "    </tr>\n",
       "    <tr>\n",
       "      <th>3</th>\n",
       "      <td>-2.0</td>\n",
       "      <td>353.00</td>\n",
       "      <td>51.0</td>\n",
       "      <td>45000.0</td>\n",
       "      <td>32.000000</td>\n",
       "      <td>0</td>\n",
       "      <td>0</td>\n",
       "      <td>0</td>\n",
       "      <td>0</td>\n",
       "      <td>0</td>\n",
       "      <td>...</td>\n",
       "      <td>0</td>\n",
       "      <td>0</td>\n",
       "      <td>0</td>\n",
       "      <td>0</td>\n",
       "      <td>0</td>\n",
       "      <td>0</td>\n",
       "      <td>0</td>\n",
       "      <td>0</td>\n",
       "      <td>0</td>\n",
       "      <td>0</td>\n",
       "    </tr>\n",
       "    <tr>\n",
       "      <th>4</th>\n",
       "      <td>1.0</td>\n",
       "      <td>667.00</td>\n",
       "      <td>97.0</td>\n",
       "      <td>110000.0</td>\n",
       "      <td>56.000000</td>\n",
       "      <td>0</td>\n",
       "      <td>0</td>\n",
       "      <td>0</td>\n",
       "      <td>0</td>\n",
       "      <td>0</td>\n",
       "      <td>...</td>\n",
       "      <td>0</td>\n",
       "      <td>0</td>\n",
       "      <td>0</td>\n",
       "      <td>0</td>\n",
       "      <td>0</td>\n",
       "      <td>0</td>\n",
       "      <td>0</td>\n",
       "      <td>0</td>\n",
       "      <td>0</td>\n",
       "      <td>0</td>\n",
       "    </tr>\n",
       "  </tbody>\n",
       "</table>\n",
       "<p>5 rows × 326 columns</p>\n",
       "</div>"
      ],
      "text/plain": [
       "   bagimsiz_bolum_kat  yuzolcumu  mevcut_alani  \\\n",
       "0                 0.0     478.33          85.0   \n",
       "1                 1.0    7961.00          97.0   \n",
       "2                -1.0     722.00         100.0   \n",
       "3                -2.0     353.00          51.0   \n",
       "4                 1.0     667.00          97.0   \n",
       "\n",
       "   adil_piyasa_degeri_yasal_durum       area  duration  ilce_kod_64  \\\n",
       "0                         62000.0  19.765702         0            0   \n",
       "1                        100000.0  70.000000         0            0   \n",
       "2                         85000.0  36.000000         0            0   \n",
       "3                         45000.0  32.000000         0            0   \n",
       "4                        110000.0  56.000000         0            0   \n",
       "\n",
       "   ilce_kod_65  ilce_kod_68  ilce_kod_70        ...          \\\n",
       "0            0            0            0        ...           \n",
       "1            0            0            0        ...           \n",
       "2            0            0            0        ...           \n",
       "3            0            0            0        ...           \n",
       "4            0            0            0        ...           \n",
       "\n",
       "   mahalle_kod_74562  mahalle_kod_74631  mahalle_kod_74677  mahalle_kod_74678  \\\n",
       "0                  0                  0                  0                  0   \n",
       "1                  0                  0                  0                  0   \n",
       "2                  0                  0                  0                  0   \n",
       "3                  0                  0                  0                  0   \n",
       "4                  0                  0                  0                  0   \n",
       "\n",
       "   mahalle_kod_74704  mahalle_kod_74751  mahalle_kod_74798  mahalle_kod_74883  \\\n",
       "0                  0                  0                  0                  0   \n",
       "1                  0                  0                  0                  0   \n",
       "2                  0                  0                  0                  0   \n",
       "3                  0                  0                  0                  0   \n",
       "4                  0                  0                  0                  0   \n",
       "\n",
       "   mahalle_kod_74885  mahalle_kod_74930  \n",
       "0                  0                  0  \n",
       "1                  0                  0  \n",
       "2                  0                  0  \n",
       "3                  0                  0  \n",
       "4                  0                  0  \n",
       "\n",
       "[5 rows x 326 columns]"
      ]
     },
     "execution_count": 22,
     "metadata": {},
     "output_type": "execute_result"
    }
   ],
   "source": [
    "df.head()"
   ]
  },
  {
   "cell_type": "code",
   "execution_count": 23,
   "metadata": {},
   "outputs": [
    {
     "data": {
      "text/plain": [
       "(102191, 326)"
      ]
     },
     "execution_count": 23,
     "metadata": {},
     "output_type": "execute_result"
    }
   ],
   "source": [
    "df.shape"
   ]
  },
  {
   "cell_type": "markdown",
   "metadata": {},
   "source": [
    "## Model Training and Evaulation"
   ]
  },
  {
   "cell_type": "markdown",
   "metadata": {},
   "source": [
    "### 1. Random Forest"
   ]
  },
  {
   "cell_type": "markdown",
   "metadata": {},
   "source": [
    "A random forest is a meta estimator that fits a number of classifying decision trees on various sub-samples of the dataset and use averaging to improve the predictive accuracy and control over-fitting."
   ]
  },
  {
   "cell_type": "code",
   "execution_count": 148,
   "metadata": {},
   "outputs": [],
   "source": [
    "X = df.drop('adil_piyasa_degeri_yasal_durum',axis=1)\n",
    "y = df['adil_piyasa_degeri_yasal_durum']"
   ]
  },
  {
   "cell_type": "code",
   "execution_count": 25,
   "metadata": {},
   "outputs": [],
   "source": [
    "RANDOM_STATE = 42"
   ]
  },
  {
   "cell_type": "code",
   "execution_count": 26,
   "metadata": {},
   "outputs": [],
   "source": [
    "from sklearn.ensemble import RandomForestRegressor"
   ]
  },
  {
   "cell_type": "code",
   "execution_count": 34,
   "metadata": {},
   "outputs": [],
   "source": [
    "regr = RandomForestRegressor(bootstrap=True,\n",
    "                             oob_score=True,\n",
    "                             max_depth= 30,\n",
    "                             max_features= 3,\n",
    "                             min_samples_leaf= 1,\n",
    "                             min_samples_split= 4,\n",
    "                             n_estimators= 300,\n",
    "                             random_state = RANDOM_STATE)\n",
    "rf = regr.fit(X, y)\n",
    "\n",
    "# 80 with outliers\n",
    "#                              oob_score=True,\n",
    "#                              max_depth = 30,\n",
    "#                              max_features = 3,\n",
    "#                              min_samples_leaf = 1,\n",
    "#                              min_samples_split = 4,\n",
    "#                              n_estimators = 300,\n",
    "#                              random_state = RANDOM_STATE\n",
    "\n",
    "# 79 outlier removed\n",
    "\n",
    "# {'bootstrap': True,\n",
    "#  'max_depth': 10,\n",
    "#  'max_features': 5,\n",
    "#  'min_samples_leaf': 1,\n",
    "#  'min_samples_split': 4,\n",
    "#  'n_estimators': 400}\n",
    "\n",
    "# not removed\n",
    "\n",
    "# {'bootstrap': True,\n",
    "#  'max_depth': 20,\n",
    "#  'max_features': 5,\n",
    "#  'min_samples_leaf': 1,\n",
    "#  'min_samples_split': 2,\n",
    "#  'n_estimators': 300}\n"
   ]
  },
  {
   "cell_type": "markdown",
   "metadata": {},
   "source": [
    "### Cross Validation for Parameter Optimization"
   ]
  },
  {
   "cell_type": "code",
   "execution_count": 32,
   "metadata": {},
   "outputs": [
    {
     "name": "stdout",
     "output_type": "stream",
     "text": [
      "{'max_depth': [10, 35, 60, 85, 110, None],\n",
      " 'max_features': ['auto', 2, 3, 4, 'sqrt'],\n",
      " 'min_samples_leaf': [2, 4, 8],\n",
      " 'min_samples_split': [2, 4, 8],\n",
      " 'n_estimators': [200, 400, 600]}\n"
     ]
    }
   ],
   "source": [
    "from sklearn.model_selection import RandomizedSearchCV\n",
    "from pprint import pprint\n",
    "\n",
    "# Number of trees in random forest\n",
    "n_estimators = [int(x) for x in np.linspace(start = 200, stop = 600, num = 3)]\n",
    "# Number of features to consider at every split\n",
    "max_features = ['auto', 2,3,4,'sqrt']\n",
    "# Maximum number of levels in tree\n",
    "max_depth = [int(x) for x in np.linspace(10, 110, num = 5)]\n",
    "max_depth.append(None)\n",
    "# Minimum number of samples required to split a node\n",
    "min_samples_split = [2, 4,8]\n",
    "# Minimum number of samples required at each leaf node\n",
    "min_samples_leaf = [2, 4,8]\n",
    "\n",
    "\n",
    "# Create the random grid\n",
    "random_grid = {'n_estimators': n_estimators,\n",
    "               'max_features': max_features,\n",
    "               'max_depth': max_depth,\n",
    "               'min_samples_split': min_samples_split,\n",
    "               'min_samples_leaf': min_samples_leaf\n",
    "               }\n",
    "pprint(random_grid)"
   ]
  },
  {
   "cell_type": "code",
   "execution_count": null,
   "metadata": {},
   "outputs": [],
   "source": [
    "# Use the random grid to search for best hyperparameters\n",
    "# First create the base model to tune\n",
    "rf = RandomForestRegressor(random_state = RANDOM_STATE,oob_score=True)\n",
    "# Random search of parameters, using 3 fold cross validation, \n",
    "# search across 100 different combinations, and use all available cores\n",
    "rf_random = RandomizedSearchCV(estimator=rf, param_distributions=random_grid,\n",
    "                              n_iter = 10, scoring='neg_mean_absolute_error', \n",
    "                              cv = 3, verbose=1, random_state=RANDOM_STATE, n_jobs=-1,                             \n",
    "                              return_train_score=True)\n",
    "\n",
    "# Fit the random search model\n",
    "rf_random.fit(X, y);"
   ]
  },
  {
   "cell_type": "code",
   "execution_count": 128,
   "metadata": {
    "scrolled": true
   },
   "outputs": [
    {
     "data": {
      "text/plain": [
       "{'max_depth': 10,\n",
       " 'max_features': 4,\n",
       " 'min_samples_leaf': 2,\n",
       " 'min_samples_split': 4,\n",
       " 'n_estimators': 400}"
      ]
     },
     "execution_count": 128,
     "metadata": {},
     "output_type": "execute_result"
    }
   ],
   "source": [
    "rf_random.best_params_"
   ]
  },
  {
   "cell_type": "code",
   "execution_count": 129,
   "metadata": {},
   "outputs": [],
   "source": [
    "# print(best_random.feature_importances_)"
   ]
  },
  {
   "cell_type": "code",
   "execution_count": 130,
   "metadata": {},
   "outputs": [],
   "source": [
    "best_random = rf_random.best_estimator_"
   ]
  },
  {
   "cell_type": "markdown",
   "metadata": {},
   "source": [
    "**We can now perform grid search building on the result from the random search. We will test a range of hyperparameters around the best values returned by random search.**"
   ]
  },
  {
   "cell_type": "code",
   "execution_count": 131,
   "metadata": {},
   "outputs": [],
   "source": [
    "from sklearn.model_selection import GridSearchCV\n",
    "\n",
    "# Create the parameter grid based on the results of random search \n",
    "param_grid = {\n",
    "    'bootstrap': [True],\n",
    "    'max_depth': [10, 20],\n",
    "    'max_features': [ 4,5,6],\n",
    "    'min_samples_leaf': [1, 2,3],\n",
    "    'min_samples_split': [2,4,6],\n",
    "    'n_estimators': [300,400,500]\n",
    "}\n",
    "\n",
    "# Create a base model\n",
    "rf = RandomForestRegressor(random_state = RANDOM_STATE,oob_score=True)\n",
    "rf.fit(X,y)\n",
    " \n",
    "# Instantiate the grid search model\n",
    "grid_search = GridSearchCV(estimator = rf, param_grid = param_grid, \n",
    "                          cv = 3, n_jobs = -1, verbose = 1, return_train_score=True)"
   ]
  },
  {
   "cell_type": "code",
   "execution_count": 132,
   "metadata": {
    "scrolled": true
   },
   "outputs": [
    {
     "name": "stdout",
     "output_type": "stream",
     "text": [
      "Fitting 3 folds for each of 162 candidates, totalling 486 fits\n"
     ]
    },
    {
     "name": "stderr",
     "output_type": "stream",
     "text": [
      "[Parallel(n_jobs=-1)]: Done  42 tasks      | elapsed:   14.0s\n",
      "[Parallel(n_jobs=-1)]: Done 192 tasks      | elapsed:  1.2min\n",
      "[Parallel(n_jobs=-1)]: Done 442 tasks      | elapsed:  2.8min\n",
      "[Parallel(n_jobs=-1)]: Done 486 out of 486 | elapsed:  3.1min finished\n"
     ]
    }
   ],
   "source": [
    "# Fit the grid search to the data\n",
    "grid_search.fit(X, y);"
   ]
  },
  {
   "cell_type": "code",
   "execution_count": 133,
   "metadata": {},
   "outputs": [
    {
     "data": {
      "text/plain": [
       "{'bootstrap': True,\n",
       " 'max_depth': 20,\n",
       " 'max_features': 4,\n",
       " 'min_samples_leaf': 1,\n",
       " 'min_samples_split': 4,\n",
       " 'n_estimators': 300}"
      ]
     },
     "execution_count": 133,
     "metadata": {},
     "output_type": "execute_result"
    }
   ],
   "source": [
    "grid_search.best_params_"
   ]
  },
  {
   "cell_type": "code",
   "execution_count": 134,
   "metadata": {},
   "outputs": [],
   "source": [
    "best_grid = grid_search.best_estimator_"
   ]
  },
  {
   "cell_type": "code",
   "execution_count": 36,
   "metadata": {},
   "outputs": [
    {
     "data": {
      "text/plain": [
       "0           85\n",
       "1           86\n",
       "2           80\n",
       "3           80\n",
       "4           86\n",
       "5           80\n",
       "6           86\n",
       "7           83\n",
       "8           64\n",
       "9           70\n",
       "10          85\n",
       "11          83\n",
       "12          86\n",
       "13          73\n",
       "14          83\n",
       "15          83\n",
       "16          83\n",
       "17          83\n",
       "18          85\n",
       "19          70\n",
       "20          85\n",
       "21          80\n",
       "22          80\n",
       "23          85\n",
       "24          86\n",
       "25          85\n",
       "26          86\n",
       "27          80\n",
       "28          80\n",
       "29          65\n",
       "          ... \n",
       "102161      86\n",
       "102162      80\n",
       "102163      87\n",
       "102164      80\n",
       "102165      70\n",
       "102166      87\n",
       "102167      80\n",
       "102168    1594\n",
       "102169      80\n",
       "102170      80\n",
       "102171      73\n",
       "102172      73\n",
       "102173      70\n",
       "102174      73\n",
       "102175      80\n",
       "102176      80\n",
       "102177      80\n",
       "102178      65\n",
       "102179      86\n",
       "102180      80\n",
       "102181      83\n",
       "102182      70\n",
       "102183      77\n",
       "102184      73\n",
       "102185      80\n",
       "102186      73\n",
       "102187      87\n",
       "102188      86\n",
       "102189      73\n",
       "102190      70\n",
       "Name: ilce_kod, Length: 102191, dtype: int64"
      ]
     },
     "execution_count": 36,
     "metadata": {},
     "output_type": "execute_result"
    }
   ],
   "source": []
  },
  {
   "cell_type": "code",
   "execution_count": null,
   "metadata": {},
   "outputs": [],
   "source": []
  }
 ],
 "metadata": {
  "kernelspec": {
   "display_name": "Python 3",
   "language": "python",
   "name": "python3"
  },
  "language_info": {
   "codemirror_mode": {
    "name": "ipython",
    "version": 3
   },
   "file_extension": ".py",
   "mimetype": "text/x-python",
   "name": "python",
   "nbconvert_exporter": "python",
   "pygments_lexer": "ipython3",
   "version": "3.6.4"
  }
 },
 "nbformat": 4,
 "nbformat_minor": 2
}
