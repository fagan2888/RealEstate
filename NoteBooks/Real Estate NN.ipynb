{
 "cells": [
  {
   "cell_type": "code",
   "execution_count": 1,
   "metadata": {},
   "outputs": [],
   "source": [
    "import pandas as pd\n",
    "import matplotlib.pyplot as plt\n",
    "import seaborn as sns\n",
    "import numpy as np\n",
    "# from scipy.stats import norm\n",
    "# from sklearn import preprocessing\n",
    "# from scipy import stats\n",
    "import warnings\n",
    "warnings.filterwarnings('ignore')\n",
    "%matplotlib inline"
   ]
  },
  {
   "cell_type": "code",
   "execution_count": 2,
   "metadata": {},
   "outputs": [],
   "source": [
    "fileName = 'C:/Users/kazIm/Desktop/projects/IE490/input/tubitak_data2_processesed.csv'\n",
    "df = pd.read_csv(fileName,  sep = ',')"
   ]
  },
  {
   "cell_type": "code",
   "execution_count": 3,
   "metadata": {},
   "outputs": [
    {
     "data": {
      "text/html": [
       "<div>\n",
       "<style>\n",
       "    .dataframe thead tr:only-child th {\n",
       "        text-align: right;\n",
       "    }\n",
       "\n",
       "    .dataframe thead th {\n",
       "        text-align: left;\n",
       "    }\n",
       "\n",
       "    .dataframe tbody tr th {\n",
       "        vertical-align: top;\n",
       "    }\n",
       "</style>\n",
       "<table border=\"1\" class=\"dataframe\">\n",
       "  <thead>\n",
       "    <tr style=\"text-align: right;\">\n",
       "      <th></th>\n",
       "      <th>ilce_kod</th>\n",
       "      <th>mahalle_kod</th>\n",
       "      <th>bagimsiz_bolum_kat</th>\n",
       "      <th>yuzolcumu</th>\n",
       "      <th>yasal_burut_alani</th>\n",
       "      <th>mevcut_alani</th>\n",
       "      <th>adil_piyasa_degeri_yasal_durum</th>\n",
       "      <th>area</th>\n",
       "      <th>duration</th>\n",
       "    </tr>\n",
       "  </thead>\n",
       "  <tbody>\n",
       "    <tr>\n",
       "      <th>0</th>\n",
       "      <td>85</td>\n",
       "      <td>55035</td>\n",
       "      <td>0.0</td>\n",
       "      <td>478.33</td>\n",
       "      <td>85.0</td>\n",
       "      <td>85.0</td>\n",
       "      <td>62000.0</td>\n",
       "      <td>19.765702</td>\n",
       "      <td>0</td>\n",
       "    </tr>\n",
       "    <tr>\n",
       "      <th>1</th>\n",
       "      <td>86</td>\n",
       "      <td>57190</td>\n",
       "      <td>1.0</td>\n",
       "      <td>7961.00</td>\n",
       "      <td>97.0</td>\n",
       "      <td>97.0</td>\n",
       "      <td>100000.0</td>\n",
       "      <td>70.000000</td>\n",
       "      <td>0</td>\n",
       "    </tr>\n",
       "    <tr>\n",
       "      <th>2</th>\n",
       "      <td>80</td>\n",
       "      <td>3835</td>\n",
       "      <td>-1.0</td>\n",
       "      <td>722.00</td>\n",
       "      <td>100.0</td>\n",
       "      <td>100.0</td>\n",
       "      <td>85000.0</td>\n",
       "      <td>36.000000</td>\n",
       "      <td>0</td>\n",
       "    </tr>\n",
       "    <tr>\n",
       "      <th>3</th>\n",
       "      <td>80</td>\n",
       "      <td>3837</td>\n",
       "      <td>-2.0</td>\n",
       "      <td>353.00</td>\n",
       "      <td>51.0</td>\n",
       "      <td>51.0</td>\n",
       "      <td>45000.0</td>\n",
       "      <td>32.000000</td>\n",
       "      <td>0</td>\n",
       "    </tr>\n",
       "    <tr>\n",
       "      <th>4</th>\n",
       "      <td>86</td>\n",
       "      <td>57190</td>\n",
       "      <td>1.0</td>\n",
       "      <td>667.00</td>\n",
       "      <td>97.0</td>\n",
       "      <td>97.0</td>\n",
       "      <td>110000.0</td>\n",
       "      <td>56.000000</td>\n",
       "      <td>0</td>\n",
       "    </tr>\n",
       "  </tbody>\n",
       "</table>\n",
       "</div>"
      ],
      "text/plain": [
       "   ilce_kod  mahalle_kod  bagimsiz_bolum_kat  yuzolcumu  yasal_burut_alani  \\\n",
       "0        85        55035                 0.0     478.33               85.0   \n",
       "1        86        57190                 1.0    7961.00               97.0   \n",
       "2        80         3835                -1.0     722.00              100.0   \n",
       "3        80         3837                -2.0     353.00               51.0   \n",
       "4        86        57190                 1.0     667.00               97.0   \n",
       "\n",
       "   mevcut_alani  adil_piyasa_degeri_yasal_durum       area  duration  \n",
       "0          85.0                         62000.0  19.765702         0  \n",
       "1          97.0                        100000.0  70.000000         0  \n",
       "2         100.0                         85000.0  36.000000         0  \n",
       "3          51.0                         45000.0  32.000000         0  \n",
       "4          97.0                        110000.0  56.000000         0  "
      ]
     },
     "execution_count": 3,
     "metadata": {},
     "output_type": "execute_result"
    }
   ],
   "source": [
    "#preview data\n",
    "df.head()"
   ]
  },
  {
   "cell_type": "markdown",
   "metadata": {},
   "source": [
    "### Ilce 79"
   ]
  },
  {
   "cell_type": "code",
   "execution_count": 4,
   "metadata": {},
   "outputs": [],
   "source": [
    "df.drop(df.index[df.ilce_kod!=79],inplace=True)\n",
    "# df\n",
    "df.drop('ilce_kod',axis=1,inplace=True)"
   ]
  },
  {
   "cell_type": "code",
   "execution_count": 5,
   "metadata": {},
   "outputs": [
    {
     "name": "stdout",
     "output_type": "stream",
     "text": [
      "<class 'pandas.core.frame.DataFrame'>\n",
      "Int64Index: 1135 entries, 209 to 101644\n",
      "Data columns (total 8 columns):\n",
      "mahalle_kod                       1135 non-null int64\n",
      "bagimsiz_bolum_kat                1135 non-null float64\n",
      "yuzolcumu                         1135 non-null float64\n",
      "yasal_burut_alani                 1135 non-null float64\n",
      "mevcut_alani                      1135 non-null float64\n",
      "adil_piyasa_degeri_yasal_durum    1135 non-null float64\n",
      "area                              1135 non-null float64\n",
      "duration                          1135 non-null int64\n",
      "dtypes: float64(6), int64(2)\n",
      "memory usage: 79.8 KB\n"
     ]
    }
   ],
   "source": [
    "df.info()"
   ]
  },
  {
   "cell_type": "code",
   "execution_count": 6,
   "metadata": {},
   "outputs": [],
   "source": [
    "mahalle = df[\"mahalle_kod\"]"
   ]
  },
  {
   "cell_type": "code",
   "execution_count": 7,
   "metadata": {},
   "outputs": [
    {
     "data": {
      "text/plain": [
       "count    1135.000000\n",
       "mean     4673.550661\n",
       "std         1.064431\n",
       "min      4673.000000\n",
       "25%      4673.000000\n",
       "50%      4673.000000\n",
       "75%      4673.000000\n",
       "max      4676.000000\n",
       "Name: mahalle_kod, dtype: float64"
      ]
     },
     "execution_count": 7,
     "metadata": {},
     "output_type": "execute_result"
    }
   ],
   "source": [
    "dfmahalle_kod'].describe()"
   ]
  },
  {
   "cell_type": "code",
   "execution_count": 8,
   "metadata": {},
   "outputs": [],
   "source": [
    "#we can drop yasal burut alani as it has almost 1 correlation with mevcut alan\n",
    "df = df.drop('yasal_burut_alani',axis=1)"
   ]
  },
  {
   "cell_type": "code",
   "execution_count": 9,
   "metadata": {},
   "outputs": [],
   "source": [
    "mahalle = df['mahalle_kod']"
   ]
  },
  {
   "cell_type": "markdown",
   "metadata": {},
   "source": [
    "### One Hot Encoding for Categorical Variables"
   ]
  },
  {
   "cell_type": "code",
   "execution_count": 10,
   "metadata": {
    "scrolled": true
   },
   "outputs": [],
   "source": [
    "# df = pd.get_dummies(df, columns=[\"ilce_kod\"])\n",
    "df = pd.get_dummies(df, columns=[\"mahalle_kod\"])"
   ]
  },
  {
   "cell_type": "code",
   "execution_count": 11,
   "metadata": {
    "scrolled": false
   },
   "outputs": [
    {
     "data": {
      "text/html": [
       "<div>\n",
       "<style>\n",
       "    .dataframe thead tr:only-child th {\n",
       "        text-align: right;\n",
       "    }\n",
       "\n",
       "    .dataframe thead th {\n",
       "        text-align: left;\n",
       "    }\n",
       "\n",
       "    .dataframe tbody tr th {\n",
       "        vertical-align: top;\n",
       "    }\n",
       "</style>\n",
       "<table border=\"1\" class=\"dataframe\">\n",
       "  <thead>\n",
       "    <tr style=\"text-align: right;\">\n",
       "      <th></th>\n",
       "      <th>bagimsiz_bolum_kat</th>\n",
       "      <th>yuzolcumu</th>\n",
       "      <th>mevcut_alani</th>\n",
       "      <th>adil_piyasa_degeri_yasal_durum</th>\n",
       "      <th>area</th>\n",
       "      <th>duration</th>\n",
       "      <th>mahalle_kod_4673</th>\n",
       "      <th>mahalle_kod_4674</th>\n",
       "      <th>mahalle_kod_4675</th>\n",
       "      <th>mahalle_kod_4676</th>\n",
       "    </tr>\n",
       "  </thead>\n",
       "  <tbody>\n",
       "    <tr>\n",
       "      <th>209</th>\n",
       "      <td>1.0</td>\n",
       "      <td>875.0</td>\n",
       "      <td>125.0</td>\n",
       "      <td>115000.0</td>\n",
       "      <td>60.000000</td>\n",
       "      <td>4</td>\n",
       "      <td>1</td>\n",
       "      <td>0</td>\n",
       "      <td>0</td>\n",
       "      <td>0</td>\n",
       "    </tr>\n",
       "    <tr>\n",
       "      <th>361</th>\n",
       "      <td>2.0</td>\n",
       "      <td>585.0</td>\n",
       "      <td>125.0</td>\n",
       "      <td>120000.0</td>\n",
       "      <td>60.000000</td>\n",
       "      <td>13</td>\n",
       "      <td>1</td>\n",
       "      <td>0</td>\n",
       "      <td>0</td>\n",
       "      <td>0</td>\n",
       "    </tr>\n",
       "    <tr>\n",
       "      <th>593</th>\n",
       "      <td>3.0</td>\n",
       "      <td>629.0</td>\n",
       "      <td>136.0</td>\n",
       "      <td>115000.0</td>\n",
       "      <td>50.000000</td>\n",
       "      <td>0</td>\n",
       "      <td>1</td>\n",
       "      <td>0</td>\n",
       "      <td>0</td>\n",
       "      <td>0</td>\n",
       "    </tr>\n",
       "    <tr>\n",
       "      <th>725</th>\n",
       "      <td>3.0</td>\n",
       "      <td>1252.0</td>\n",
       "      <td>133.0</td>\n",
       "      <td>90000.0</td>\n",
       "      <td>60.000000</td>\n",
       "      <td>1</td>\n",
       "      <td>1</td>\n",
       "      <td>0</td>\n",
       "      <td>0</td>\n",
       "      <td>0</td>\n",
       "    </tr>\n",
       "    <tr>\n",
       "      <th>809</th>\n",
       "      <td>2.0</td>\n",
       "      <td>968.0</td>\n",
       "      <td>178.0</td>\n",
       "      <td>130000.0</td>\n",
       "      <td>322.666667</td>\n",
       "      <td>2</td>\n",
       "      <td>0</td>\n",
       "      <td>0</td>\n",
       "      <td>1</td>\n",
       "      <td>0</td>\n",
       "    </tr>\n",
       "  </tbody>\n",
       "</table>\n",
       "</div>"
      ],
      "text/plain": [
       "     bagimsiz_bolum_kat  yuzolcumu  mevcut_alani  \\\n",
       "209                 1.0      875.0         125.0   \n",
       "361                 2.0      585.0         125.0   \n",
       "593                 3.0      629.0         136.0   \n",
       "725                 3.0     1252.0         133.0   \n",
       "809                 2.0      968.0         178.0   \n",
       "\n",
       "     adil_piyasa_degeri_yasal_durum        area  duration  mahalle_kod_4673  \\\n",
       "209                        115000.0   60.000000         4                 1   \n",
       "361                        120000.0   60.000000        13                 1   \n",
       "593                        115000.0   50.000000         0                 1   \n",
       "725                         90000.0   60.000000         1                 1   \n",
       "809                        130000.0  322.666667         2                 0   \n",
       "\n",
       "     mahalle_kod_4674  mahalle_kod_4675  mahalle_kod_4676  \n",
       "209                 0                 0                 0  \n",
       "361                 0                 0                 0  \n",
       "593                 0                 0                 0  \n",
       "725                 0                 0                 0  \n",
       "809                 0                 1                 0  "
      ]
     },
     "execution_count": 11,
     "metadata": {},
     "output_type": "execute_result"
    }
   ],
   "source": [
    "df.head()"
   ]
  },
  {
   "cell_type": "code",
   "execution_count": 12,
   "metadata": {},
   "outputs": [
    {
     "data": {
      "text/plain": [
       "(1135, 10)"
      ]
     },
     "execution_count": 12,
     "metadata": {},
     "output_type": "execute_result"
    }
   ],
   "source": [
    "df.shape"
   ]
  },
  {
   "cell_type": "code",
   "execution_count": 17,
   "metadata": {
    "scrolled": true
   },
   "outputs": [],
   "source": [
    "# split into input (X) and output (y) variables\n",
    "X = df.drop('adil_piyasa_degeri_yasal_durum',axis=1)\n",
    "y = df['adil_piyasa_degeri_yasal_durum']"
   ]
  },
  {
   "cell_type": "code",
   "execution_count": 18,
   "metadata": {},
   "outputs": [
    {
     "name": "stdout",
     "output_type": "stream",
     "text": [
      "(1135, 9)\n",
      "(1135,)\n"
     ]
    }
   ],
   "source": [
    "print(X.shape)\n",
    "print(y.shape)"
   ]
  },
  {
   "cell_type": "markdown",
   "metadata": {},
   "source": [
    "## 2. Neural Network"
   ]
  },
  {
   "cell_type": "markdown",
   "metadata": {},
   "source": [
    "### Data Preprocessing "
   ]
  },
  {
   "cell_type": "code",
   "execution_count": 19,
   "metadata": {},
   "outputs": [],
   "source": [
    "from sklearn.preprocessing import StandardScaler\n",
    "from sklearn.model_selection import train_test_split\n",
    "\n",
    "scaler1 = StandardScaler().fit(X)\n",
    "scaler2 = StandardScaler().fit(y.reshape(-1,1))\n",
    "X_ = scaler1.transform(X)\n",
    "y_ = scaler2.transform(y.reshape(-1,1))\n",
    "X_train, X_test, y_train, y_test = train_test_split( X_, y_, test_size=0.15, random_state=42)\n"
   ]
  },
  {
   "cell_type": "code",
   "execution_count": null,
   "metadata": {},
   "outputs": [],
   "source": [
    "# scaler2.inverse_transform(y_)\n"
   ]
  },
  {
   "cell_type": "code",
   "execution_count": 20,
   "metadata": {
    "scrolled": true
   },
   "outputs": [
    {
     "name": "stderr",
     "output_type": "stream",
     "text": [
      "Using TensorFlow backend.\n"
     ]
    }
   ],
   "source": [
    "from keras.models import Sequential\n",
    "from keras.layers import Dense, Activation#,Dropout, Conv1D, MaxPooling1D, Flatten\n",
    "from keras.wrappers.scikit_learn import KerasRegressor\n",
    "from keras.optimizers import SGD\n",
    "from keras.callbacks import EarlyStopping, ModelCheckpoint\n",
    "# from sklearn.model_selection import StratifiedKFold\n",
    "# from sklearn.model_selection import cross_val_score\n",
    "# from sklearn.model_selection import GridSearchCV\n",
    "\n",
    "# fix random seed for reproducibility\n",
    "\n",
    "\n",
    "dims = X_.shape[1]\n",
    "# print(dims, 'dims')\n",
    "# print('Building model...')\n",
    "\n",
    "# Function to plot history of model learning \n",
    "def plot_history(network_history):\n",
    "    \n",
    "    plt.figure()\n",
    "    plt.xlabel('Epochs')\n",
    "    plt.ylabel('Loss')\n",
    "    plt.plot(network_history.history['loss'])\n",
    "    plt.plot(network_history.history['val_loss'])\n",
    "    plt.legend(['Training', 'Validation'])\n",
    "\n",
    "#     plt.figure()\n",
    "#     plt.xlabel('Epochs')\n",
    "#     plt.ylabel('Accuracy')\n",
    "#     plt.plot(network_history.history['acc'])\n",
    "#     plt.plot(network_history.history['val_acc'])\n",
    "#     plt.legend(['Training', 'Validation'])\n",
    "#     plt.show()\n",
    "\n",
    "# Function to create model     \n",
    "def create_model():\n",
    "    # create model\n",
    "    model = Sequential()\n",
    "    model.add(Dense(dims, input_shape=(dims,), init = 'normal', activation='relu'))\n",
    "#     model.add(Dropout(rate=0.0))\n",
    "    model.add(Dense(10, init = 'normal', activation='relu'))\n",
    "#     model.add(Dropout(rate=0.0))\n",
    "    model.add(Dense(5, init = 'normal', activation='relu'))\n",
    "#     model.add(Dropout(rate=0.0))\n",
    "    model.add(Dense(1, init = 'normal'))\n",
    "    # compile model\n",
    "#     sgd = SGD(lr=0.01, decay=1e-6, momentum=0.9, nesterov=True)\n",
    "    model.compile(loss='mse', optimizer = 'adam',metrics=['accuracy'])\n",
    "    model.summary()\n",
    "    return model\n",
    "\n",
    "\n",
    "def train_model(modell, xtrain, ytrain, xval, yval):\n",
    "    fBestModel = 'best_model.h5' \n",
    "    early_stop = EarlyStopping(monitor='val_loss', patience=30, verbose=1) \n",
    "    best_model = ModelCheckpoint(fBestModel, verbose=0, save_best_only=True)\n",
    "    \n",
    "    history = modell.fit(xtrain, ytrain, batch_size=128, epochs=400, verbose=0, \n",
    "                         validation_data=(xval, yval), callbacks=[best_model, early_stop])# early stopping\n",
    "    return history\n",
    "\n"
   ]
  },
  {
   "cell_type": "code",
   "execution_count": 21,
   "metadata": {},
   "outputs": [
    {
     "name": "stdout",
     "output_type": "stream",
     "text": [
      "_________________________________________________________________\n",
      "Layer (type)                 Output Shape              Param #   \n",
      "=================================================================\n",
      "dense_1 (Dense)              (None, 9)                 90        \n",
      "_________________________________________________________________\n",
      "dense_2 (Dense)              (None, 10)                100       \n",
      "_________________________________________________________________\n",
      "dense_3 (Dense)              (None, 5)                 55        \n",
      "_________________________________________________________________\n",
      "dense_4 (Dense)              (None, 1)                 6         \n",
      "=================================================================\n",
      "Total params: 251\n",
      "Trainable params: 251\n",
      "Non-trainable params: 0\n",
      "_________________________________________________________________\n",
      "Epoch 00121: early stopping\n"
     ]
    },
    {
     "data": {
      "image/png": "[encoded data removed]",
      "text/plain": [
       "<matplotlib.figure.Figure at 0x11189ed28d0>"
      ]
     },
     "metadata": {},
     "output_type": "display_data"
    }
   ],
   "source": [
    "try:\n",
    "    del model\n",
    "except:\n",
    "    pass\n",
    "np.random.seed(0)\n",
    "# create model\n",
    "model = create_model()\n",
    "\n",
    "# plot the history of learning\n",
    "history = train_model(model,X_train,y_train,X_test,y_test)\n",
    "plot_history(history)\n",
    "\n"
   ]
  },
  {
   "cell_type": "code",
   "execution_count": 22,
   "metadata": {},
   "outputs": [],
   "source": [
    "pred = model.predict(X_test) \n",
    "pred = scaler1.inverse_transform(pred)\n",
    "# actual = y_test.reshape(-1,1)\n",
    "actual = scaler2.inverse_transform(y_test)\n",
    "error = np.abs(pred-actual)/actual\n"
   ]
  },
  {
   "cell_type": "markdown",
   "metadata": {},
   "source": [
    "### Rate of houses that have less than 20% prediction error  "
   ]
  },
  {
   "cell_type": "code",
   "execution_count": 23,
   "metadata": {},
   "outputs": [
    {
     "data": {
      "text/plain": [
       "0.8362573099415205"
      ]
     },
     "execution_count": 23,
     "metadata": {},
     "output_type": "execute_result"
    }
   ],
   "source": [
    "error[error<=0.2].shape[0]/y_test.shape[0]\n"
   ]
  },
  {
   "cell_type": "markdown",
   "metadata": {},
   "source": [
    "** Accuracy = 85% **"
   ]
  },
  {
   "cell_type": "code",
   "execution_count": 26,
   "metadata": {},
   "outputs": [
    {
     "name": "stdout",
     "output_type": "stream",
     "text": [
      "mean of error: 0.133285743237\n",
      "standard deviation of error: 0.160657318754\n"
     ]
    }
   ],
   "source": [
    "print('mean of error:',np.mean(error))\n",
    "print('standard deviation of error:',np.std(error))"
   ]
  },
  {
   "cell_type": "code",
   "execution_count": 27,
   "metadata": {
    "scrolled": true
   },
   "outputs": [
    {
     "data": {
      "text/plain": [
       "<matplotlib.axes._subplots.AxesSubplot at 0x1118a71bba8>"
      ]
     },
     "execution_count": 27,
     "metadata": {},
     "output_type": "execute_result"
    },
    {
     "data": {
      "image/png": "[encoded data removed]",
      "text/plain": [
       "<matplotlib.figure.Figure at 0x11188e42630>"
      ]
     },
     "metadata": {},
     "output_type": "display_data"
    }
   ],
   "source": [
    "sns.distplot(error)\n"
   ]
  },
  {
   "cell_type": "code",
   "execution_count": null,
   "metadata": {},
   "outputs": [],
   "source": [
    "# from sklearn.model_selection import StratifiedKFold\n",
    "\n",
    "# define 3-fold cross validation test harness\n",
    "# kfold = StratifiedKFold(n_splits=3, shuffle=True, random_state=0)\n",
    "# for (train,test) in kfold.split(X_,y_.flatten()):\n",
    "#     train\n",
    "# cvscores = []\n",
    "# for train, test in kfold.split(X_, y_):\n",
    "#   # create model\n",
    "#     model = Sequential()\n",
    "#     model.add(Dense(dims, input_shape=(dims,), init='normal', activation='relu'))\n",
    "#     model.add(Dense(10, init='normal', activation='relu'))\n",
    "#     model.add(Dense(1, init='normal'))\n",
    "#     model.compile(loss='mse', optimizer = 'adam')\n",
    "#     # Compile model\n",
    "#     model.compile(loss='mse', optimizer='adam', metrics=['accuracy'])\n",
    "#     # Fit the model\n",
    "#     model.fit(X[train], y[train], epochs=150, batch_size=10, verbose=1)\n",
    "#     # evaluate the model\n",
    "#     scores = model.evaluate(X[test], y[test], verbose=0)\n",
    "#     print(\"%s: %.2f%%\" % (model.metrics_names[1], scores[1]*100))\n",
    "#     cvscores.append(scores[1] * 100)\n",
    "# print(\"%.2f%% (+/- %.2f%%)\" % (np.mean(cvscores), np.std(cvscores)))\n"
   ]
  },
  {
   "cell_type": "code",
   "execution_count": null,
   "metadata": {},
   "outputs": [],
   "source": []
  }
 ],
 "metadata": {
  "kernelspec": {
   "display_name": "Python 3",
   "language": "python",
   "name": "python3"
  },
  "language_info": {
   "codemirror_mode": {
    "name": "ipython",
    "version": 3
   },
   "file_extension": ".py",
   "mimetype": "text/x-python",
   "name": "python",
   "nbconvert_exporter": "python",
   "pygments_lexer": "ipython3",
   "version": "3.6.3"
  }
 },
 "nbformat": 4,
 "nbformat_minor": 2
}
