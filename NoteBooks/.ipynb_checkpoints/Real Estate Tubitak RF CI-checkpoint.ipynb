{
 "cells": [
  {
   "cell_type": "markdown",
   "metadata": {},
   "source": [
    "<center> <h1> Cross Valudated Random Forest Model Confidence Interval of Accuracy <h1/> <center/>"
   ]
  },
  {
   "cell_type": "code",
   "execution_count": 1,
   "metadata": {},
   "outputs": [],
   "source": [
    "import pandas as pd\n",
    "import matplotlib.pyplot as plt\n",
    "import seaborn as sns\n",
    "import numpy as np\n",
    "import warnings\n",
    "warnings.filterwarnings('ignore')\n",
    "%matplotlib inline"
   ]
  },
  {
   "cell_type": "code",
   "execution_count": 2,
   "metadata": {},
   "outputs": [],
   "source": [
    "fileName = 'C:/Users/kazIm/Desktop/projects/IE490/input/tubitak_data2_processesed2_outlier.csv'\n",
    "df = pd.read_csv(fileName,  sep = ',')"
   ]
  },
  {
   "cell_type": "code",
   "execution_count": 3,
   "metadata": {},
   "outputs": [
    {
     "data": {
      "text/html": [
       "<div>\n",
       "<style>\n",
       "    .dataframe thead tr:only-child th {\n",
       "        text-align: right;\n",
       "    }\n",
       "\n",
       "    .dataframe thead th {\n",
       "        text-align: left;\n",
       "    }\n",
       "\n",
       "    .dataframe tbody tr th {\n",
       "        vertical-align: top;\n",
       "    }\n",
       "</style>\n",
       "<table border=\"1\" class=\"dataframe\">\n",
       "  <thead>\n",
       "    <tr style=\"text-align: right;\">\n",
       "      <th></th>\n",
       "      <th>bagimsiz_bolum_kat</th>\n",
       "      <th>yuzolcumu</th>\n",
       "      <th>mevcut_alani</th>\n",
       "      <th>adil_piyasa_degeri_yasal_durum</th>\n",
       "      <th>tapunun_yasi</th>\n",
       "      <th>area</th>\n",
       "      <th>duration</th>\n",
       "      <th>mahalle_kod_4673.0</th>\n",
       "      <th>mahalle_kod_4676.0</th>\n",
       "    </tr>\n",
       "  </thead>\n",
       "  <tbody>\n",
       "    <tr>\n",
       "      <th>0</th>\n",
       "      <td>1.0</td>\n",
       "      <td>875.0</td>\n",
       "      <td>125.0</td>\n",
       "      <td>115000.0</td>\n",
       "      <td>4.0</td>\n",
       "      <td>60.0</td>\n",
       "      <td>4.0</td>\n",
       "      <td>1</td>\n",
       "      <td>0</td>\n",
       "    </tr>\n",
       "    <tr>\n",
       "      <th>1</th>\n",
       "      <td>2.0</td>\n",
       "      <td>585.0</td>\n",
       "      <td>125.0</td>\n",
       "      <td>120000.0</td>\n",
       "      <td>3.0</td>\n",
       "      <td>60.0</td>\n",
       "      <td>13.0</td>\n",
       "      <td>1</td>\n",
       "      <td>0</td>\n",
       "    </tr>\n",
       "    <tr>\n",
       "      <th>2</th>\n",
       "      <td>3.0</td>\n",
       "      <td>629.0</td>\n",
       "      <td>136.0</td>\n",
       "      <td>115000.0</td>\n",
       "      <td>4.0</td>\n",
       "      <td>50.0</td>\n",
       "      <td>0.0</td>\n",
       "      <td>1</td>\n",
       "      <td>0</td>\n",
       "    </tr>\n",
       "    <tr>\n",
       "      <th>3</th>\n",
       "      <td>3.0</td>\n",
       "      <td>1252.0</td>\n",
       "      <td>133.0</td>\n",
       "      <td>90000.0</td>\n",
       "      <td>7.0</td>\n",
       "      <td>60.0</td>\n",
       "      <td>1.0</td>\n",
       "      <td>1</td>\n",
       "      <td>0</td>\n",
       "    </tr>\n",
       "    <tr>\n",
       "      <th>4</th>\n",
       "      <td>3.0</td>\n",
       "      <td>1137.0</td>\n",
       "      <td>167.0</td>\n",
       "      <td>130000.0</td>\n",
       "      <td>3.0</td>\n",
       "      <td>75.0</td>\n",
       "      <td>6.0</td>\n",
       "      <td>1</td>\n",
       "      <td>0</td>\n",
       "    </tr>\n",
       "  </tbody>\n",
       "</table>\n",
       "</div>"
      ],
      "text/plain": [
       "   bagimsiz_bolum_kat  yuzolcumu  mevcut_alani  \\\n",
       "0                 1.0      875.0         125.0   \n",
       "1                 2.0      585.0         125.0   \n",
       "2                 3.0      629.0         136.0   \n",
       "3                 3.0     1252.0         133.0   \n",
       "4                 3.0     1137.0         167.0   \n",
       "\n",
       "   adil_piyasa_degeri_yasal_durum  tapunun_yasi  area  duration  \\\n",
       "0                        115000.0           4.0  60.0       4.0   \n",
       "1                        120000.0           3.0  60.0      13.0   \n",
       "2                        115000.0           4.0  50.0       0.0   \n",
       "3                         90000.0           7.0  60.0       1.0   \n",
       "4                        130000.0           3.0  75.0       6.0   \n",
       "\n",
       "   mahalle_kod_4673.0  mahalle_kod_4676.0  \n",
       "0                   1                   0  \n",
       "1                   1                   0  \n",
       "2                   1                   0  \n",
       "3                   1                   0  \n",
       "4                   1                   0  "
      ]
     },
     "execution_count": 3,
     "metadata": {},
     "output_type": "execute_result"
    }
   ],
   "source": [
    "#preview data\n",
    "df.head()"
   ]
  },
  {
   "cell_type": "markdown",
   "metadata": {},
   "source": [
    "## Model Training and Evaulation"
   ]
  },
  {
   "cell_type": "markdown",
   "metadata": {},
   "source": [
    "### 1. Random Forest"
   ]
  },
  {
   "cell_type": "markdown",
   "metadata": {},
   "source": [
    "A random forest is a meta estimator that fits a number of classifying decision trees on various sub-samples of the dataset and use averaging to improve the predictive accuracy and control over-fitting."
   ]
  },
  {
   "cell_type": "code",
   "execution_count": 20,
   "metadata": {},
   "outputs": [],
   "source": [
    "from sklearn.ensemble import RandomForestRegressor"
   ]
  },
  {
   "cell_type": "code",
   "execution_count": 21,
   "metadata": {},
   "outputs": [],
   "source": [
    "X = df.drop('adil_piyasa_degeri_yasal_durum',axis=1)\n",
    "y = df['adil_piyasa_degeri_yasal_durum']"
   ]
  },
  {
   "cell_type": "code",
   "execution_count": 55,
   "metadata": {},
   "outputs": [
    {
     "name": "stdout",
     "output_type": "stream",
     "text": [
      "seed = 11\n",
      "oob error: 0.19\n",
      "R^2: 0.96\n",
      "20% error quantile: 0.888\n",
      "------------------------------\n",
      "seed = 23\n",
      "oob error: 0.19\n",
      "R^2: 0.96\n",
      "20% error quantile: 0.884\n",
      "------------------------------\n",
      "seed = 42\n",
      "oob error: 0.19\n",
      "R^2: 0.96\n",
      "20% error quantile: 0.890\n",
      "------------------------------\n",
      "seed = 68\n",
      "oob error: 0.19\n",
      "R^2: 0.96\n",
      "20% error quantile: 0.884\n",
      "------------------------------\n",
      "seed = 81\n",
      "oob error: 0.19\n",
      "R^2: 0.96\n",
      "20% error quantile: 0.884\n",
      "------------------------------\n",
      "\n",
      "\n",
      "20% Error Quantile CI: (0.883 - 0.883)\n"
     ]
    }
   ],
   "source": [
    "quantile = []\n",
    "seeds = [11, 23, 42, 68, 81]\n",
    "\n",
    "for seed in seeds:\n",
    "    print('seed =',seed)\n",
    "    \n",
    "    RANDOM_STATE = seed\n",
    "    \n",
    "    regr = RandomForestRegressor(bootstrap=True,\n",
    "                             oob_score=True,\n",
    "                             max_depth = 30,\n",
    "                             max_features = 3,\n",
    "                             min_samples_leaf = 1,\n",
    "                             min_samples_split = 4,\n",
    "                             n_estimators = 300,\n",
    "                             random_state = RANDOM_STATE)\n",
    "    \n",
    "    rf = regr.fit(X, y)\n",
    "    preds = rf.oob_prediction_\n",
    "    \n",
    "    df['prediction'] = preds\n",
    "    df['error'] = np.abs(df['adil_piyasa_degeri_yasal_durum']-df['prediction'])/df['adil_piyasa_degeri_yasal_durum']\n",
    "    \n",
    "    oob_error = 1 - rf.oob_score_\n",
    "    print(\"oob error: %0.2f\" % oob_error)\n",
    "    print(\"R^2: %0.2f\" % rf.score(X, y, sample_weight=None))# print(\":\",regr.oob_score_)# print(\":\",regr.oob_score_)\n",
    "    print(\"20% error quantile: {0:.3f}\".format(((df[df.error<=0.2].shape[0])/df.shape[0]))) \n",
    "    \n",
    "    quantile.append((df[df.error<=0.2].shape[0])/df.shape[0])  \n",
    "    \n",
    "    print('-'*30)\n",
    "    \n",
    "print('\\n')\n",
    "\n",
    "quantile = np.asanyarray(quantile)\n",
    "print(\"20% Error Quantile CI: ({0:.3f} - {1:.3f})\".format(round((quantile.mean() - quantile.std()),4), round((quantile.mean() - quantile.std()),4))) "
   ]
  },
  {
   "cell_type": "markdown",
   "metadata": {},
   "source": [
    "<b> 20% Error Quantile CI: (0.883 - 0.883) <b/>\n"
   ]
  },
  {
   "cell_type": "code",
   "execution_count": null,
   "metadata": {},
   "outputs": [],
   "source": []
  }
 ],
 "metadata": {
  "kernelspec": {
   "display_name": "Python 3",
   "language": "python",
   "name": "python3"
  },
  "language_info": {
   "codemirror_mode": {
    "name": "ipython",
    "version": 3
   },
   "file_extension": ".py",
   "mimetype": "text/x-python",
   "name": "python",
   "nbconvert_exporter": "python",
   "pygments_lexer": "ipython3",
   "version": "3.6.3"
  }
 },
 "nbformat": 4,
 "nbformat_minor": 2
}
