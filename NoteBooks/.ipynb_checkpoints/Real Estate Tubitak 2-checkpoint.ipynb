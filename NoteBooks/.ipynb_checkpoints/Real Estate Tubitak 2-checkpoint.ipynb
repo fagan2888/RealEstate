{
 "cells": [
  {
   "cell_type": "code",
   "execution_count": 1,
   "metadata": {},
   "outputs": [],
   "source": [
    "import pandas as pd\n",
    "import matplotlib.pyplot as plt\n",
    "import seaborn as sns\n",
    "import numpy as np\n",
    "from scipy.stats import norm\n",
    "from sklearn import preprocessing\n",
    "from scipy import stats\n",
    "import warnings\n",
    "warnings.filterwarnings('ignore')\n",
    "%matplotlib inline"
   ]
  },
  {
   "cell_type": "code",
   "execution_count": null,
   "metadata": {},
   "outputs": [],
   "source": [
    "# /home/kazim/Desktop/projects/IE490\n",
    "fileName = '/home/kazim/Desktop/projects/IE490/input/tubitak_data2_processesed.csv'\n",
    "df = pd.read_csv(fileName,  sep = ',')"
   ]
  },
  {
   "cell_type": "code",
   "execution_count": null,
   "metadata": {},
   "outputs": [],
   "source": [
    "#preview data\n",
    "df.head()"
   ]
  },
  {
   "cell_type": "markdown",
   "metadata": {},
   "source": [
    "### Ilce 79"
   ]
  },
  {
   "cell_type": "code",
   "execution_count": null,
   "metadata": {},
   "outputs": [],
   "source": [
    "df.drop(df.index[df.ilce_kod!=79],inplace=True)\n",
    "# df\n",
    "df.drop('ilce_kod',axis=1,inplace=True)"
   ]
  },
  {
   "cell_type": "code",
   "execution_count": null,
   "metadata": {},
   "outputs": [],
   "source": [
    "df.info()"
   ]
  },
  {
   "cell_type": "code",
   "execution_count": null,
   "metadata": {},
   "outputs": [],
   "source": [
    "mahalle = df[\"mahalle_kod\"]"
   ]
  },
  {
   "cell_type": "code",
   "execution_count": null,
   "metadata": {},
   "outputs": [],
   "source": [
    "df['mahalle_kod'].describe()"
   ]
  },
  {
   "cell_type": "code",
   "execution_count": null,
   "metadata": {},
   "outputs": [],
   "source": [
    "#we can drop yasal burut alani as it has almost 1 correlation with mevcut alan\n",
    "df = df.drop('yasal_burut_alani',axis=1)"
   ]
  },
  {
   "cell_type": "code",
   "execution_count": null,
   "metadata": {},
   "outputs": [],
   "source": [
    "mahalle = df['mahalle_kod']"
   ]
  },
  {
   "cell_type": "markdown",
   "metadata": {},
   "source": [
    "### One Hot Encoding for Categorical Variables"
   ]
  },
  {
   "cell_type": "code",
   "execution_count": null,
   "metadata": {
    "scrolled": true
   },
   "outputs": [],
   "source": [
    "# df = pd.get_dummies(df, columns=[\"ilce_kod\"])\n",
    "df = pd.get_dummies(df, columns=[\"mahalle_kod\"])"
   ]
  },
  {
   "cell_type": "code",
   "execution_count": null,
   "metadata": {},
   "outputs": [],
   "source": [
    "df.head()"
   ]
  },
  {
   "cell_type": "code",
   "execution_count": null,
   "metadata": {},
   "outputs": [],
   "source": [
    "df.shape"
   ]
  },
  {
   "cell_type": "code",
   "execution_count": null,
   "metadata": {},
   "outputs": [],
   "source": [
    "X = df.drop('adil_piyasa_degeri_yasal_durum',axis=1)\n",
    "y = df['adil_piyasa_degeri_yasal_durum']"
   ]
  },
  {
   "cell_type": "markdown",
   "metadata": {},
   "source": [
    "### Training Validation Split"
   ]
  },
  {
   "cell_type": "code",
   "execution_count": null,
   "metadata": {},
   "outputs": [],
   "source": [
    "from sklearn.model_selection import StratifiedKFold\n",
    "skf = StratifiedKFold(n_splits=3,random_state=42)\n",
    "\n",
    "labels = ['mahalle_kod_4673','mahalle_kod_4674','mahalle_kod_4675','mahalle_kod_4676']\n",
    "values=[]\n",
    "values_train = []\n",
    "values_test = []\n",
    "for train, test in skf.split(X, y):\n",
    "\n",
    "    print('*'*64)\n",
    "    a = X.iloc[train]\n",
    "    b = X.iloc[test]\n",
    "    \n",
    "    fold=[]\n",
    "    fold.append(a[a['mahalle_kod_4673']==1].shape[0])\n",
    "    fold.append(a[a['mahalle_kod_4674']==1].shape[0])\n",
    "    fold.append(a[a['mahalle_kod_4675']==1].shape[0])\n",
    "    fold.append(a[a['mahalle_kod_4676']==1].shape[0])                     \n",
    "    values_train.append(fold)\n",
    "    \n",
    "    fold=[]\n",
    "    fold.append(b[b['mahalle_kod_4673']==1].shape[0])\n",
    "    fold.append(b[b['mahalle_kod_4674']==1].shape[0])\n",
    "    fold.append(b[b['mahalle_kod_4675']==1].shape[0])\n",
    "    fold.append(b[b['mahalle_kod_4676']==1].shape[0])                       \n",
    "    values_test.append(fold)\n",
    "    \n",
    "    print('mahalle_kod_4673', a[a['mahalle_kod_4673']==1].shape[0],'|', b[b['mahalle_kod_4673']==1].shape[0])\n",
    "    print('mahalle_kod_4674', a[a['mahalle_kod_4674']==1].shape[0],'|', b[b['mahalle_kod_4674']==1].shape[0])\n",
    "    print('mahalle_kod_4675', a[a['mahalle_kod_4675']==1].shape[0],'|', b[b['mahalle_kod_4675']==1].shape[0])\n",
    "    print('mahalle_kod_4676', a[a['mahalle_kod_4676']==1].shape[0],'|', b[b['mahalle_kod_4676']==1].shape[0])\n",
    "\n",
    "values.append(X[X['mahalle_kod_4673']==1].shape[0])\n",
    "values.append(X[X['mahalle_kod_4674']==1].shape[0])\n",
    "values.append(X[X['mahalle_kod_4675']==1].shape[0])\n",
    "values.append(X[X['mahalle_kod_4676']==1].shape[0])"
   ]
  },
  {
   "cell_type": "code",
   "execution_count": null,
   "metadata": {},
   "outputs": [],
   "source": [
    "import plotly.plotly as py\n",
    "from plotly.graph_objs import *\n",
    "\n",
    "names = ['mahalle_kod_4673','mahalle_kod_4674','mahalle_kod_4675','mahalle_kod_4676']\n",
    "fig = {\n",
    "    'data': [\n",
    "        {\n",
    "            'values': values,\n",
    "            'labels': names,\n",
    "            'type': 'pie',\n",
    "            'name': '',\n",
    "            'marker': {'colors': ['rgb(0,102,204)',\n",
    "                                  'rgb(0,255,128)',\n",
    "                                  'rgb(255,255,51)',\n",
    "                                  'rgb(255,0,0)']},\n",
    "            \"domain\": {\"x\": [0.25,0.75]},\n",
    "            'hoverinfo':'label+percent',\n",
    "            'textinfo':'none'\n",
    "        }\n",
    "    ],\n",
    "    'layout': {'title': 'Sample Distribution',\n",
    "           'showlegend': True}\n",
    "    }\n",
    "\n",
    "py.iplot(fig, filename='Sample Distribution')"
   ]
  },
  {
   "cell_type": "code",
   "execution_count": null,
   "metadata": {
    "scrolled": false
   },
   "outputs": [],
   "source": [
    "\n",
    "names = ['mahalle_kod_4673','mahalle_kod_4674','mahalle_kod_4675','mahalle_kod_4676']\n",
    "fig = {\n",
    "    'data': [\n",
    "        {\n",
    "            'values': values_test[0],\n",
    "            'labels': names,\n",
    "            'type': 'pie',\n",
    "            'name': 'First Fold Validation Data',\n",
    "            'marker': {'colors': ['rgb(0,102,204)',\n",
    "                                  'rgb(0,255,128)',\n",
    "                                  'rgb(255,255,51)',\n",
    "                                  'rgb(255,0,0)']},\n",
    "            \"domain\": {\"x\": [0, .3]},\n",
    "            'hoverinfo':'label+percent',\n",
    "            'textinfo':'none'\n",
    "        },\n",
    "                {\n",
    "            'labels': names,\n",
    "            'values': values_test[1],\n",
    "            'marker': {'colors': ['rgb(0,102,204)',\n",
    "                                  'rgb(0,255,128)',\n",
    "                                  'rgb(255,255,51)',\n",
    "                                  'rgb(255,0,0)']},\n",
    "            'type': 'pie',\n",
    "            'name': 'Second Fold Validation Data',\n",
    "            \"domain\": {\"x\": [0.35, 0.65]},\n",
    "            'hoverinfo':'label+percent',\n",
    "            'textinfo':'none'\n",
    "        },\n",
    "        {\n",
    "            'labels': names,\n",
    "            'values': values_test[2],\n",
    "            'marker': {'colors': ['rgb(0,102,204)',\n",
    "                                  'rgb(0,255,128)',\n",
    "                                  'rgb(255,255,51)',\n",
    "                                  'rgb(255,0,0)']},\n",
    "            'type': 'pie',\n",
    "            'name':'Third Fold Validation Data',\n",
    "            \"domain\": {\"x\": [0.7, 1]},\n",
    "            'hoverinfo':'label+percent',\n",
    "            'textinfo':'none'\n",
    "        }\n",
    "    ],\n",
    "    'layout': {'title': 'Stratified 3 Fold CrossValidation Validation Sample Distribution',\n",
    "               'showlegend': True,\n",
    "    \"annotations\": [\n",
    "            {\n",
    "                \"font\": {\n",
    "                    \"size\": 10\n",
    "                },\n",
    "                \"showarrow\": False,\n",
    "                \"text\": \"First Fold\",\n",
    "                \"x\": 0.12,\n",
    "                \"y\": 0.1\n",
    "            },\n",
    "            {\n",
    "                \"font\": {\n",
    "                    \"size\": 10\n",
    "                },\n",
    "                \"showarrow\": False,\n",
    "                \"text\": \"Second Fold\",\n",
    "                \"x\": 0.5,\n",
    "                \"y\": 0.1\n",
    "            },\n",
    "            {\n",
    "                \"font\": {\n",
    "                    \"size\": 10\n",
    "                },\n",
    "                \"showarrow\": False,\n",
    "                \"text\": \"Third Fold\",\n",
    "                \"x\": 0.88,\n",
    "                \"y\": 0.1\n",
    "            }\n",
    "        ]\n",
    "    }\n",
    "\n",
    "}\n",
    "\n",
    "py.iplot(fig, filename='Stratified 3 Fold CrossValidation')"
   ]
  },
  {
   "cell_type": "markdown",
   "metadata": {},
   "source": [
    "### Data Preprocessing "
   ]
  },
  {
   "cell_type": "code",
   "execution_count": null,
   "metadata": {},
   "outputs": [],
   "source": [
    "from sklearn.preprocessing import StandardScaler\n",
    "\n",
    "scaler = preprocessing.StandardScaler().fit(X)\n",
    "X_ = scaler.transform(X)\n",
    "y_ = np.log(y)\n"
   ]
  },
  {
   "cell_type": "code",
   "execution_count": null,
   "metadata": {},
   "outputs": [],
   "source": [
    "# scaler.inverse_transform(X_)\n",
    "\n"
   ]
  },
  {
   "cell_type": "markdown",
   "metadata": {},
   "source": [
    "## 2. Neural Network"
   ]
  },
  {
   "cell_type": "code",
   "execution_count": null,
   "metadata": {},
   "outputs": [],
   "source": [
    "from keras.models import Sequential\n",
    "from keras.layers import Dense, Activation#, Conv1D, MaxPooling1D, Dropout, Flatten\n",
    "from keras.wrappers.scikit_learn import KerasRegressor\n",
    "\n",
    "\n",
    "np.random.seed(42)\n",
    "\n",
    "dims = X_.shape[1]\n",
    "# print(dims, 'dims')\n",
    "# print('Building model...')\n",
    "\n",
    "def plot_history(network_history):\n",
    "        plt.figure()\n",
    "        plt.xlabel('Epochs')\n",
    "        plt.ylabel('Loss')\n",
    "        plt.plot(network_history.history['loss'])\n",
    "        plt.plot(network_history.history['val_loss'])\n",
    "        plt.legend(['Training', 'Validation'])\n",
    "\n",
    "#         plt.figure()\n",
    "#         plt.xlabel('Epochs')\n",
    "#         plt.ylabel('Accuracy')\n",
    "#         plt.plot(network_history.history['acc'])\n",
    "#         plt.plot(network_history.history['val_acc'])\n",
    "#         plt.legend(['Training', 'Validation'], loc='lower right')\n",
    "        plt.show()\n",
    "        \n",
    "def create_model():\n",
    "\n",
    "     \n",
    "    model = Sequential()\n",
    "    model.add(Dense(dims, input_shape=(dims,), init='normal', activation='relu'))\n",
    "    model.add(Dense(10, init='normal', activation='relu'))\n",
    "    model.add(Dense(20, init='normal', activation='relu'))\n",
    "    model.add(Dense(10, init='normal', activation='relu'))\n",
    "    model.add(Dense(1, init='normal'))\n",
    "    model.compile(loss='mean_squared_error', optimizer = 'adam',metrics=['accuracy'])\n",
    "    return model\n",
    "\n",
    "\n",
    "\n",
    "def train_model(modell, xtrain, ytrain, xval, yval):\n",
    "    history = modell.fit(xtrain, ytrain, batch_size=64, epochs=100, verbose=0, validation_data=(xval, yval))\n",
    "    return history\n",
    "\n",
    "\n",
    "# network_history = model.fit(X_train, Y_train, batch_size=128, \n",
    "#                             epochs=2, verbose=1, validation_data=(X_val, Y_val))\n",
    "# model.fit(X_scaled,y_scaled,epochs=100,batch_size=10)\n",
    "\n",
    "\n",
    "\n",
    "# clf.fit(X_scaled,y_scaled)"
   ]
  },
  {
   "cell_type": "code",
   "execution_count": null,
   "metadata": {},
   "outputs": [],
   "source": [
    "from sklearn.model_selection import StratifiedKFold\n",
    "\n",
    "# define 3-fold cross validation test harness\n",
    "kfold = StratifiedKFold(n_splits=3, shuffle=True, random_state=42)\n",
    "cvscores = []\n",
    "for train, test in kfold.split(X_, y_):\n",
    "  # create model\n",
    "    model = Sequential()\n",
    "    model.add(Dense(dims, input_shape=(dims,), init='normal', activation='relu'))\n",
    "    model.add(Dense(20, init='normal', activation='relu'))\n",
    "    model.add(Dense(40, init='normal', activation='relu'))\n",
    "    model.add(Dense(20, init='normal', activation='relu'))\n",
    "    model.add(Dense(1, init='normal'))\n",
    "    # Compile model\n",
    "    model.compile(loss='binary_crossentropy', optimizer='adam', metrics=['accuracy'])\n",
    "    # Fit the model\n",
    "    model.fit(X[train], y[train], epochs=150, batch_size=10, verbose=1)\n",
    "    # evaluate the model\n",
    "    scores = model.evaluate(X[test], y[test], verbose=0)\n",
    "    print(\"%s: %.2f%%\" % (model.metrics_names[1], scores[1]*100))\n",
    "    cvscores.append(scores[1] * 100)\n",
    "print(\"%.2f%% (+/- %.2f%%)\" % (np.mean(cvscores), np.std(cvscores)))\n",
    "#############################\n",
    "\n",
    "# # Instantiate the cross validator\n",
    "# skf = StratifiedKFold(n_splits=3, shuffle=True, random_state=42)\n",
    "# # Loop through the indices the split() method returns\n",
    "# model = create_model()\n",
    "# for index, (train_indices, val_indices) in enumerate(skf.split(X_, y)):\n",
    "#     print(\"Training on fold \" + str(index+1) + \"/3...\")\n",
    "#     # Generate batches from indices\n",
    "#     xtrain, xval = X_[train_indices], X_[val_indices]\n",
    "#     ytrain, yval = y_[train_indices], y_[val_indices]\n",
    "#     # Clear model, and create it\n",
    "#     model = None\n",
    "#     model = create_model()\n",
    "        \n",
    "#     network_history = train_model(model, xtrain, ytrain, xval, yval)\n",
    "# plot_history(network_history)"
   ]
  },
  {
   "cell_type": "code",
   "execution_count": null,
   "metadata": {},
   "outputs": [],
   "source": [
    "\n",
    "# from keras.models import Sequential\n",
    "# from keras.layers import Dense, Activation#, Conv1D, MaxPooling1D, Dropout, Flatten\n",
    "# from keras.wrappers.scikit_learn import KerasRegressor\n",
    "# from keras import losses\n",
    "# from keras import metrics\n",
    "\n",
    "\n",
    "# dims = X_.shape[1]\n",
    "# print(dims, 'dims')\n",
    "# # print('Building model...')\n",
    "\n",
    "# def plot_history(network_history):\n",
    "#         plt.figure()\n",
    "#         plt.xlabel('Epochs')\n",
    "#         plt.ylabel('Loss')\n",
    "#         plt.plot(network_history.history['loss'])\n",
    "#         plt.plot(network_history.history['val_loss'])\n",
    "#         plt.legend(['Training', 'Validation'])\n",
    "\n",
    "# #         plt.figure()\n",
    "# #         plt.xlabel('Epochs')\n",
    "# #         plt.ylabel('Accuracy')\n",
    "# #         plt.plot(network_history.history['acc'])\n",
    "# #         plt.plot(network_history.history['val_acc'])\n",
    "# #         plt.legend(['Training', 'Validation'], loc='lower right')\n",
    "#         plt.show()\n",
    "        \n",
    "# def create_model():\n",
    "\n",
    "     \n",
    "#     model = Sequential()\n",
    "#     model.add(Dense(5, input_shape=(dims,), init='normal', activation='sigmoid'))\n",
    "#     model.add(Dense(1, init='normal'))\n",
    "# #     model.compile(loss='mean_squared_error', optimizer = 'adam')\n",
    "\n",
    "#     model.compile(loss='mse', optimizer = 'rmsprop', metrics=['accuracy'])\n",
    "#     return model\n",
    "\n",
    "\n",
    "\n",
    "# def train_model(modell, xtrain, ytrain, xval, yval):\n",
    "#     history = modell.fit(xtrain, ytrain, batch_size=64, epochs=100, verbose=0, validation_data=(xval, yval))\n",
    "#     return history\n",
    "\n",
    "\n",
    "# # network_history = model.fit(X_train, Y_train, batch_size=128, \n",
    "# #                             epochs=2, verbose=1, validation_data=(X_val, Y_val))\n",
    "# # model.fit(X_scaled,y_scaled,epochs=100,batch_size=10)\n",
    "\n",
    "\n",
    "\n",
    "# # clf.fit(X_scaled,y_scaled)\n"
   ]
  },
  {
   "cell_type": "code",
   "execution_count": null,
   "metadata": {
    "scrolled": true
   },
   "outputs": [],
   "source": [
    "\n",
    "# from keras.models import Sequential\n",
    "# from keras.layers import Dense, Activation#, Conv1D, MaxPooling1D, Dropout, Flatten\n",
    "# from keras.wrappers.scikit_learn import KerasRegressor\n",
    "# from keras import losses,metrics\n",
    "\n",
    "# from sklearn.model_selection import StratifiedKFold\n",
    "# dims = X_.shape[1]\n",
    "\n",
    "# seed = 42\n",
    "# np.random.seed(seed)\n",
    "# # load pima indians dataset\n",
    "# # define 3-fold cross validation test harness\n",
    "# kfold = StratifiedKFold(n_splits=3, shuffle=True, random_state=seed)\n",
    "# cvscores = []\n",
    "# for train, test in kfold.split(X_, y):\n",
    "#   # create model\n",
    "#     model = Sequential()\n",
    "#     model.add(Dense(dims, input_shape=(dims,), init='normal', activation='relu'))\n",
    "#     model.add(Dense(20, init='normal', activation='relu'))\n",
    "#     model.add(Dense(40, init='normal', activation='relu'))\n",
    "#     model.add(Dense(20, init='normal', activation='relu'))\n",
    "#     model.add(Dense(1, init='normal'))\n",
    "#     # Compile model\n",
    "#     model.compile(loss='mean_squared_error', optimizer='adam', metrics=['accuracy'])\n",
    "#     # Fit the model\n",
    "#     model.fit(X_[train], y[train], epochs=100, batch_size=64, verbose=0)\n",
    "#     # evaluate the model\n",
    "#     scores = model.evaluate(X_[test], y[test], verbose=0)\n",
    "#     print(\"%s: %.2f%%\" % (model.metrics_names[1], scores[1]*100))\n",
    "#     cvscores.append(scores[1] * 100)\n",
    "# print(\"%.2f%% (+/- %.2f%%)\" % (np.mean(cvscores), np.std(cvscores)))\n",
    "# #############################\n",
    "\n",
    "# # # Instantiate the cross validator\n",
    "# # skf = StratifiedKFold(n_splits=3,random_state=0)\n",
    "# # # Loop through the indices the split() method returns\n",
    "# # model = create_model()\n",
    "\n",
    "# # for index, (train_indices, val_indices) in enumerate(skf.split(X_, y)):\n",
    "# #     print(\"Training on fold \" + str(index+1) + \"/3...\")\n",
    "# #     # Generate batches from indices\n",
    "# #     xtrain, xval = X_[train_indices], X_[val_indices]\n",
    "# #     ytrain, yval = y[train_indices], y[val_indices]\n",
    "# #     # Clear model, and create it\n",
    "# #     model = None\n",
    "# #     model = create_model()\n",
    "    \n",
    "# #     network_history = train_model(model, xtrain, ytrain, xval, yval)\n",
    "    \n",
    "# #     pred = model.predict(xval) \n",
    "# #     pred = np.exp(pred)\n",
    "# #     pred = np.squeeze(pred)\n",
    "# #     actual = yval\n",
    "# #     error = np.abs(pred-actual)/actual\n",
    "# #     print(\"Error on fold \" + str(index+1) + \"/3: ->\",error)\n",
    "    \n",
    "# # plot_history(network_history)"
   ]
  },
  {
   "cell_type": "code",
   "execution_count": null,
   "metadata": {},
   "outputs": [],
   "source": []
  }
 ],
 "metadata": {
  "kernelspec": {
   "display_name": "Python 3",
   "language": "python",
   "name": "python3"
  },
  "language_info": {
   "codemirror_mode": {
    "name": "ipython",
    "version": 3
   },
   "file_extension": ".py",
   "mimetype": "text/x-python",
   "name": "python",
   "nbconvert_exporter": "python",
   "pygments_lexer": "ipython3",
   "version": "3.6.4"
  }
 },
 "nbformat": 4,
 "nbformat_minor": 2
}
